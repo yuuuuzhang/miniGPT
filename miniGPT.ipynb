{
  "nbformat": 4,
  "nbformat_minor": 0,
  "metadata": {
    "colab": {
      "provenance": [],
      "authorship_tag": "ABX9TyOXmXgcMBt5V/ftAB1VHAjH",
      "include_colab_link": true
    },
    "kernelspec": {
      "name": "python3",
      "display_name": "Python 3"
    },
    "language_info": {
      "name": "python"
    }
  },
  "cells": [
    {
      "cell_type": "markdown",
      "metadata": {
        "id": "view-in-github",
        "colab_type": "text"
      },
      "source": [
        "<a href=\"https://colab.research.google.com/github/yuuuuzhang/miniGPT/blob/main/miniGPT.ipynb\" target=\"_parent\"><img src=\"https://colab.research.google.com/assets/colab-badge.svg\" alt=\"Open In Colab\"/></a>"
      ]
    },
    {
      "cell_type": "markdown",
      "source": [
        "## Import packages"
      ],
      "metadata": {
        "id": "BpfxM89LkTU8"
      }
    },
    {
      "cell_type": "code",
      "source": [
        "import torch\n",
        "import torch.nn as nn\n",
        "from torch.optim import Adam\n",
        "from torch.utils.data import DataLoader, TensorDataset\n",
        "import math\n",
        "import matplotlib.pyplot as plt\n",
        "from sklearn.model_selection import train_test_split\n",
        "import nltk\n",
        "from collections import Counter\n"
      ],
      "metadata": {
        "id": "jgayFTjtDgbH"
      },
      "execution_count": null,
      "outputs": []
    },
    {
      "cell_type": "markdown",
      "source": [
        "## Model"
      ],
      "metadata": {
        "id": "_S4sOM8Ikb1w"
      }
    },
    {
      "cell_type": "code",
      "execution_count": null,
      "metadata": {
        "id": "lDuwSR_NDa5S"
      },
      "outputs": [],
      "source": [
        "# Position encoding\n",
        "class myPositionEncoding(nn.Module):\n",
        "    def __init__(self, embed_dim, max_len=1000):\n",
        "        # max_len: Maximum length of input sequences (default is 1000 for large sequences).\n",
        "        super(myPositionEncoding, self).__init__()\n",
        "\n",
        "        # Calculate positional encodings using sine and cosine functions\n",
        "        position = torch.arange(0, max_len).unsqueeze(1).float()  # position values. (max_len, 1)\n",
        "\n",
        "        embedding_index = torch.arange(0, embed_dim, 2).unsqueeze(0).float()  # even indices only\n",
        "        div_term = 1 / torch.tensor(10000.0) ** (embedding_index / embed_dim)  # (embed_dim//2,)\n",
        "\n",
        "        positionencoding = torch.zeros(max_len, embed_dim)\n",
        "        # Apply sine to even indices and cosine to odd indices\n",
        "        positionencoding[:, 0::2] = torch.sin(position * div_term)  # Apply sine to even indices\n",
        "        positionencoding[:, 1::2] = torch.cos(position * div_term)  # Apply cosine to odd indices\n",
        "        positionencoding = positionencoding.unsqueeze(0) # add batch dim, (batch, seq_len, embed_dim)\n",
        "        self.register_buffer('positionencoding', positionencoding)\n",
        "\n",
        "    def forward(self, x):\n",
        "        # Input x shape: (batch_size, seq_len, embed_dim)\n",
        "        # return: Embeddings with positional encodings added\n",
        "\n",
        "        # Get the sequence length from the input tensor (x)\n",
        "        seq_len = x.size(1)\n",
        "\n",
        "        # Add the positional encoding (broadcasted to the batch size)\n",
        "        return x + self.positionencoding[:seq_len, :]\n",
        "\n",
        "# multi head attention layer\n",
        "class myMultiHeadAttention(nn.Module):\n",
        "    def __init__(self, embed_dim, num_heads):\n",
        "        super(myMultiHeadAttention, self).__init__()\n",
        "\n",
        "        self.embed_dim = embed_dim\n",
        "        self.num_heads = num_heads\n",
        "        self.head_dim = embed_dim // num_heads\n",
        "        #sanity check\n",
        "        assert self.head_dim * num_heads == embed_dim, \"embed_dim must be divisible by num_heads\"\n",
        "\n",
        "        self.query = nn.Linear(embed_dim, embed_dim)\n",
        "        self.key = nn.Linear(embed_dim, embed_dim)\n",
        "        self.value = nn.Linear(embed_dim, embed_dim)\n",
        "        self.fc_out = nn.Linear(embed_dim, embed_dim)\n",
        "\n",
        "    def forward(self, x, mask=None):\n",
        "        # Input x shape: (batch_size, seq_len, embed_dim)\n",
        "        # return: projected attention score\n",
        "\n",
        "        batch_size, seq_len, _ = x.size()\n",
        "\n",
        "        # Linear projections for query, key, and value\n",
        "        query = self.query(x).view(batch_size, seq_len, self.num_heads, self.head_dim).transpose(1, 2)\n",
        "        key = self.key(x).view(batch_size, seq_len, self.num_heads, self.head_dim).transpose(1, 2)\n",
        "        value = self.value(x).view(batch_size, seq_len, self.num_heads, self.head_dim).transpose(1, 2)\n",
        "\n",
        "        # Scaled dot-product attention\n",
        "        scores = torch.matmul(query, key.transpose(-2, -1)) / math.sqrt(self.head_dim) # Q * t(K) / d_k**1/2: (batch_size, num_heads, seq_len, head_dim) * (batch_size, num_heads, head_dim, seq_len) -> (batch_size, num_heads, seq_len, seq_len)\n",
        "\n",
        "        if mask is not None:\n",
        "            scores = scores.masked_fill(mask == 0, float(\"-inf\")) # Mask out the positions where mask == 0 with -inf, (batch_size, num_heads, seq_len, seq_len)\n",
        "\n",
        "        attn_weights = torch.softmax(scores, dim=-1) # softmax(Q * t(K) / d_k**1/2 + M), (batch_size, num_heads, seq_len, seq_len)\n",
        "\n",
        "        # Combine attention weights with value vectors\n",
        "        attn_output = torch.matmul(attn_weights, value) # softmax(Q * t(K) / d_k**1/2 + M) * V: shape: (batch_size, num_heads, seq_len, seq_len) * (batch_size, num_heads, seq_len, head_dim) -> (batch_size, num_heads, seq_len, head_dim)\n",
        "\n",
        "        # Concatenate heads\n",
        "        attn_output = attn_output.transpose(1, 2).contiguous().view(batch_size, seq_len, self.embed_dim) # (batch_size, seq_len, embed_dim)\n",
        "\n",
        "        # Final linear layer\n",
        "        return self.fc_out(attn_output) # (batch_size, seq_len, embed_dim)\n",
        "\n",
        "# Feedforward Network\n",
        "class myFeedForward(nn.Module):\n",
        "    def __init__(self, embed_dim, hidden_dim):\n",
        "        super(myFeedForward, self).__init__()\n",
        "        self.fc1 = nn.Linear(embed_dim, hidden_dim)\n",
        "        self.fc2 = nn.Linear(hidden_dim, embed_dim)\n",
        "        self.relu = nn.ReLU()\n",
        "\n",
        "    def forward(self, x):\n",
        "        # Input x shape: (batch_size, seq_len, embed_dim)\n",
        "        # return: refined the token representations\n",
        "        return self.fc2(self.relu(self.fc1(x)))  # (batch_size, seq_len, embed_dim)\n",
        "\n",
        "# Transformer decoder part\n",
        "class myTransformerDecoder(nn.Module):\n",
        "    def __init__(self, embed_dim, num_heads, hidden_dim, max_len):\n",
        "        super(myTransformerDecoder, self).__init__()\n",
        "        self.attention = myMultiHeadAttention(embed_dim, num_heads)\n",
        "        self.norm1 = nn.LayerNorm(embed_dim)\n",
        "        self.feed_forward = myFeedForward(embed_dim, hidden_dim)\n",
        "        self.norm2 = nn.LayerNorm(embed_dim)\n",
        "\n",
        "    def forward(self, x, mask):\n",
        "        # Input x shape: (batch_size, seq_len, embed_dim)\n",
        "        # Input mask: Attention mask of shape (batch_size, seq_len, seq_len)\n",
        "        # return: refined layer normalized residual connection\n",
        "\n",
        "        attn_output = self.attention(x, mask)  # (batch_size, seq_len, embed_dim)\n",
        "        x = self.norm1(x + attn_output)  # (batch_size, seq_len, embed_dim)\n",
        "        ff_output = self.feed_forward(x)  # (batch_size, seq_len, embed_dim)\n",
        "        return self.norm2(x + ff_output)  # (batch_size, seq_len, embed_dim)\n",
        "\n",
        "# mini GPT Model\n",
        "class miniGPTModel(nn.Module):\n",
        "    def __init__(self, vocab_size, embed_dim, num_heads, num_layers, hidden_dim, max_len):\n",
        "        super(miniGPTModel, self).__init__()\n",
        "        self.embedding = nn.Embedding(vocab_size, embed_dim) # (batch_size, seq_len) -> (batch_size, seq_len, embed_dim)\n",
        "        self.positionencoding = myPositionEncoding(embed_dim, max_len) # (batch_size, seq_len, embed_dim)\n",
        "        self.layers = nn.ModuleList([\n",
        "            myTransformerDecoder(embed_dim, num_heads, hidden_dim, max_len) for _ in range(num_layers)\n",
        "        ])\n",
        "        self.fc_out = nn.Linear(embed_dim, vocab_size)\n",
        "\n",
        "    def forward(self, x, mask):\n",
        "        # Input x shape: (batch_size, seq_len, embed_dim)\n",
        "        # Input mask: Attention mask of shape (batch_size, seq_len, seq_len)\n",
        "        # return: predicted token probability\n",
        "\n",
        "        # Embedding and positional encoding\n",
        "        x = self.embedding(x)  # (batch_size, seq_len, embed_dim)\n",
        "        x = self.positionencoding(x)  # Add positional encodings, (batch_size, seq_len, embed_dim)\n",
        "\n",
        "        # Pass through all transformer decoder layers\n",
        "        for layer in self.layers:\n",
        "            x = layer(x, mask)  # (batch_size, seq_len, embed_dim)\n",
        "\n",
        "        # Project to vocab size\n",
        "        return self.fc_out(x)  # (batch_size, seq_len, vocab_size)\n",
        "\n",
        "# Mask function\n",
        "def create_mask(seq_len):\n",
        "    return torch.tril(torch.ones((seq_len, seq_len))).unsqueeze(0).unsqueeze(0)  # (1, 1, seq_len, seq_len)"
      ]
    },
    {
      "cell_type": "markdown",
      "source": [
        "## Generate data"
      ],
      "metadata": {
        "id": "oA_LqRFFkrgH"
      }
    },
    {
      "cell_type": "code",
      "source": [
        "# Download NLTK data\n",
        "nltk.download('punkt')\n",
        "\n",
        "# Sample text (replace with your own corpus)\n",
        "text = \"Deep learning is a type of machine learning that uses artificial neural networks to teach computers to process data.\"\n",
        "\n",
        "# Tokenize the text into words\n",
        "tokens = nltk.word_tokenize(text.lower())  # Lowercase all words for simplicity\n",
        "\n",
        "# Build vocabulary (unique tokens)\n",
        "vocab = Counter(tokens)\n",
        "\n",
        "# Create a mapping from token to index\n",
        "vocab_size = len(vocab)\n",
        "token_to_idx = {token: idx for idx, (token, _) in enumerate(vocab.items())}\n",
        "\n",
        "# Create a mapping from index to token\n",
        "idx_to_token = {idx: token for token, idx in token_to_idx.items()}\n",
        "\n",
        "# Print the vocabulary\n",
        "print(\"Vocabulary:\", vocab)\n",
        "\n",
        "# Convert text tokens into their integer IDs\n",
        "token_ids = [token_to_idx[token] for token in tokens if token in token_to_idx]\n",
        "\n",
        "print(\"Token IDs:\", token_ids)\n"
      ],
      "metadata": {
        "colab": {
          "base_uri": "https://localhost:8080/"
        },
        "id": "GFnfdaKGvB1k",
        "outputId": "fce4b336-bc5a-4dee-959f-4e062edc1ee7"
      },
      "execution_count": null,
      "outputs": [
        {
          "output_type": "stream",
          "name": "stdout",
          "text": [
            "Vocabulary: Counter({'learning': 2, 'to': 2, 'deep': 1, 'is': 1, 'a': 1, 'type': 1, 'of': 1, 'machine': 1, 'that': 1, 'uses': 1, 'artificial': 1, 'neural': 1, 'networks': 1, 'teach': 1, 'computers': 1, 'process': 1, 'data': 1, '.': 1})\n",
            "Token IDs: [0, 1, 2, 3, 4, 5, 6, 1, 7, 8, 9, 10, 11, 12, 13, 14, 12, 15, 16, 17]\n"
          ]
        },
        {
          "output_type": "stream",
          "name": "stderr",
          "text": [
            "[nltk_data] Downloading package punkt to /root/nltk_data...\n",
            "[nltk_data]   Package punkt is already up-to-date!\n"
          ]
        }
      ]
    },
    {
      "cell_type": "markdown",
      "source": [
        "## Parameters"
      ],
      "metadata": {
        "id": "IWn1RR2SzXTc"
      }
    },
    {
      "cell_type": "code",
      "source": [
        "# Parameters\n",
        "seq_len = 10  # Define sequence length\n",
        "batch_size = 32\n",
        "vocab_size = len(vocab)\n",
        "embed_dim = 64\n",
        "hidden_dim = 128\n",
        "num_heads = 4\n",
        "num_layers = 2\n",
        "num_epochs = 20\n",
        "lr = 0.001"
      ],
      "metadata": {
        "id": "Y3VsqmqgzWYO"
      },
      "execution_count": null,
      "outputs": []
    },
    {
      "cell_type": "markdown",
      "source": [
        "## Prepare training and test data"
      ],
      "metadata": {
        "id": "GF0AbAZu1_7c"
      }
    },
    {
      "cell_type": "code",
      "source": [
        "inputs = []\n",
        "targets = []\n",
        "\n",
        "# Generate sequences of tokens and their corresponding target tokens\n",
        "for i in range(len(token_ids) - seq_len):\n",
        "    inputs.append(token_ids[i:i + seq_len])   # Input sequence of fixed length\n",
        "    targets.append(token_ids[i + 1:i + seq_len + 1])  # Target sequence (shifted by one token)\n",
        "\n",
        "inputs = torch.tensor(inputs)  # (num_samples, seq_len)\n",
        "targets = torch.tensor(targets)  # (num_samples, seq_len)\n",
        "\n",
        "print(\"Inputs shape:\", inputs.shape)\n",
        "print(\"Targets shape:\", targets.shape)\n",
        "\n",
        "# Split into training and test data (80% for training, 20% for testing)\n",
        "train_inputs, test_inputs, train_targets, test_targets = train_test_split(inputs, targets, test_size=0.2, shuffle=True)\n",
        "\n",
        "# Print the shapes of training and test data\n",
        "print(\"Train Inputs shape:\", train_inputs.shape)\n",
        "print(\"Train Targets shape:\", train_targets.shape)\n",
        "print(\"Test Inputs shape:\", test_inputs.shape)\n",
        "print(\"Test Targets shape:\", test_targets.shape)\n",
        "\n",
        "# Create DataLoader for training\n",
        "train_dataset = TensorDataset(train_inputs, train_targets)\n",
        "train_dataloader = DataLoader(train_dataset, batch_size=batch_size, shuffle=True)\n",
        "\n",
        "# Create DataLoader for testing\n",
        "test_dataset = TensorDataset(test_inputs, test_targets)\n",
        "test_dataloader = DataLoader(test_dataset, batch_size=batch_size, shuffle=False)\n",
        "\n",
        "# Print the first batch from the DataLoader\n",
        "for batch_inputs, batch_targets in train_dataloader:\n",
        "    print(\"Batch Inputs:\", batch_inputs)\n",
        "    print(\"Batch Targets:\", batch_targets)\n",
        "    break\n"
      ],
      "metadata": {
        "colab": {
          "base_uri": "https://localhost:8080/"
        },
        "id": "LDDLRIK4sljX",
        "outputId": "877063f1-4490-46cb-a5bc-695cf9e7173f"
      },
      "execution_count": null,
      "outputs": [
        {
          "output_type": "stream",
          "name": "stdout",
          "text": [
            "Inputs shape: torch.Size([10, 10])\n",
            "Targets shape: torch.Size([10, 10])\n",
            "Train Inputs shape: torch.Size([8, 10])\n",
            "Train Targets shape: torch.Size([8, 10])\n",
            "Test Inputs shape: torch.Size([2, 10])\n",
            "Test Targets shape: torch.Size([2, 10])\n",
            "Batch Inputs: tensor([[ 7,  8,  9, 10, 11, 12, 13, 14, 12, 15],\n",
            "        [ 0,  1,  2,  3,  4,  5,  6,  1,  7,  8],\n",
            "        [ 2,  3,  4,  5,  6,  1,  7,  8,  9, 10],\n",
            "        [ 6,  1,  7,  8,  9, 10, 11, 12, 13, 14],\n",
            "        [ 1,  2,  3,  4,  5,  6,  1,  7,  8,  9],\n",
            "        [ 8,  9, 10, 11, 12, 13, 14, 12, 15, 16],\n",
            "        [ 5,  6,  1,  7,  8,  9, 10, 11, 12, 13],\n",
            "        [ 4,  5,  6,  1,  7,  8,  9, 10, 11, 12]])\n",
            "Batch Targets: tensor([[ 8,  9, 10, 11, 12, 13, 14, 12, 15, 16],\n",
            "        [ 1,  2,  3,  4,  5,  6,  1,  7,  8,  9],\n",
            "        [ 3,  4,  5,  6,  1,  7,  8,  9, 10, 11],\n",
            "        [ 1,  7,  8,  9, 10, 11, 12, 13, 14, 12],\n",
            "        [ 2,  3,  4,  5,  6,  1,  7,  8,  9, 10],\n",
            "        [ 9, 10, 11, 12, 13, 14, 12, 15, 16, 17],\n",
            "        [ 6,  1,  7,  8,  9, 10, 11, 12, 13, 14],\n",
            "        [ 5,  6,  1,  7,  8,  9, 10, 11, 12, 13]])\n"
          ]
        }
      ]
    },
    {
      "cell_type": "markdown",
      "source": [
        "## Training and test"
      ],
      "metadata": {
        "id": "vdxE1yzekeOQ"
      }
    },
    {
      "cell_type": "code",
      "source": [
        "# Initialize model, loss, and optimizer\n",
        "model = miniGPTModel(vocab_size, embed_dim, num_heads, num_layers, hidden_dim, seq_len)\n",
        "criterion = nn.CrossEntropyLoss()\n",
        "optimizer = Adam(model.parameters(), lr=lr)\n",
        "\n",
        "# Track metrics\n",
        "train_losses = []\n",
        "test_accuracies = []\n",
        "\n",
        "# Training and testing loop\n",
        "for epoch in range(num_epochs):\n",
        "    # Training\n",
        "    model.train()\n",
        "    total_loss = 0\n",
        "    for x, y in train_dataloader:\n",
        "        optimizer.zero_grad()  # Clear gradients\n",
        "\n",
        "        gpt_mask = create_mask(x.size(1))  # Create a mask with the current sequence length\n",
        "\n",
        "        # Forward pass with both input_ids and mask\n",
        "        outputs = model(x, gpt_mask)  # Forward pass\n",
        "\n",
        "        loss = criterion(outputs.view(-1, vocab_size), y.view(-1))  # Compute loss\n",
        "        loss.backward()  # Backpropagation\n",
        "        optimizer.step()  # Update weights\n",
        "\n",
        "        total_loss += loss.item()\n",
        "\n",
        "    avg_train_loss = total_loss / len(train_dataloader)\n",
        "    train_losses.append(avg_train_loss)\n",
        "    # print(f\"Epoch {epoch + 1}/{num_epochs}, Training Loss: {avg_train_loss:.4f}\")\n",
        "\n",
        "    # Testing\n",
        "    model.eval()\n",
        "    correct, total = 0, 0\n",
        "    with torch.no_grad():\n",
        "        for x, y in test_dataloader:\n",
        "            gpt_mask = create_mask(x.size(1))  # Create a mask with the sequence length of the test batch\n",
        "\n",
        "            outputs = model(x, gpt_mask) # Forward pass\n",
        "            predictions = torch.argmax(outputs, dim=-1)  # Get predicted tokens\n",
        "            correct += (predictions == y).sum().item()  # Count correct predictions\n",
        "            total += y.numel()  # Total tokens\n",
        "\n",
        "    accuracy = correct / total\n",
        "    test_accuracies.append(accuracy)\n",
        "    # print(f\"Epoch {epoch + 1}/{num_epochs}, Test Accuracy: {accuracy:.4f}\")\n"
      ],
      "metadata": {
        "id": "DdoNqEhreDi-"
      },
      "execution_count": null,
      "outputs": []
    },
    {
      "cell_type": "markdown",
      "source": [
        "## Visualisation"
      ],
      "metadata": {
        "id": "_-thEhdZzj11"
      }
    },
    {
      "cell_type": "code",
      "source": [
        "# Plot training loss and test accuracy\n",
        "epochs = range(1, num_epochs + 1)\n",
        "plt.figure(figsize=(12, 5))\n",
        "\n",
        "# Training Loss\n",
        "plt.subplot(1, 2, 1)\n",
        "plt.plot(epochs, train_losses, label=\"Training Loss\", marker='o')\n",
        "plt.xlabel(\"Epochs\")\n",
        "plt.ylabel(\"Loss\")\n",
        "plt.title(\"Training Loss\")\n",
        "plt.legend()\n",
        "\n",
        "# Test Accuracy\n",
        "plt.subplot(1, 2, 2)\n",
        "plt.plot(epochs, test_accuracies, label=\"Test Accuracy\", marker='o', color='orange')\n",
        "plt.xlabel(\"Epochs\")\n",
        "plt.ylabel(\"Accuracy\")\n",
        "plt.title(\"Test Accuracy\")\n",
        "plt.legend()\n",
        "\n",
        "plt.tight_layout()\n",
        "plt.show()\n"
      ],
      "metadata": {
        "colab": {
          "base_uri": "https://localhost:8080/",
          "height": 507
        },
        "id": "Nq9_IamHk8Vl",
        "outputId": "7a6447c4-5876-40ff-a735-e63ae23033cd"
      },
      "execution_count": null,
      "outputs": [
        {
          "output_type": "display_data",
          "data": {
            "text/plain": [
              "<Figure size 1200x500 with 2 Axes>"
            ],
            "image/png": "[encoded data removed]"
          },
          "metadata": {}
        }
      ]
    },
    {
      "cell_type": "code",
      "source": [],
      "metadata": {
        "id": "Q62W3THN4DWv"
      },
      "execution_count": null,
      "outputs": []
    }
  ]
}